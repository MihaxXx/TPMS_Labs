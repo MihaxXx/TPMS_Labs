{
 "cells": [
  {
   "cell_type": "markdown",
   "metadata": {},
   "source": [
    "## Савельев Михаил, 3.8, вариант 6"
   ]
  },
  {
   "cell_type": "code",
   "execution_count": 1,
   "metadata": {},
   "outputs": [],
   "source": [
    "import numpy as np"
   ]
  },
  {
   "cell_type": "code",
   "execution_count": 2,
   "metadata": {},
   "outputs": [],
   "source": [
    "data = np.array([2.49, 1.46, 3.95, 1.7, 3.27, 4.17, 3.82, 1.33, 2.44, 1.69, 3.33, 2.9, 2.31, 3.98, 2.21, 2.55, 2.14, 2.86, 5.49, 3.48, 3.51, 3.42])"
   ]
  },
  {
   "cell_type": "markdown",
   "metadata": {},
   "source": [
    "**a) найти выборочное среднее , выборочную дисперсию, исправленную выборочную дисперсию**"
   ]
  },
  {
   "cell_type": "markdown",
   "metadata": {},
   "source": [
    "Выборочное среднее $$ \\overline x=\\frac{1}{n}\\cdot\\displaystyle\\sum_{i=1}^{n} x_i$$"
   ]
  },
  {
   "cell_type": "code",
   "execution_count": 3,
   "metadata": {},
   "outputs": [
    {
     "name": "stdout",
     "output_type": "stream",
     "text": [
      "Выборочное среднее = 2.931818181818181\n",
      "Выборочное среднее из библиотеки numpy = 2.9318181818181817\n"
     ]
    }
   ],
   "source": [
    "mean = sum(data)/len(data)\n",
    "print(f'Выборочное среднее = {mean}')\n",
    "print(f'Выборочное среднее из библиотеки numpy = {data.mean()}')"
   ]
  },
  {
   "cell_type": "markdown",
   "metadata": {},
   "source": [
    "Выборочная дисперсия $$ s^2=\\frac{1}{n} \\cdot \\displaystyle\\sum_{i=1}^{n}(x_i - \\overline{x})^2$$"
   ]
  },
  {
   "cell_type": "code",
   "execution_count": 4,
   "metadata": {},
   "outputs": [
    {
     "name": "stdout",
     "output_type": "stream",
     "text": [
      "Выборочная дисперсия = 1.0028603305785124\n",
      "Выборочная дисперсия из библиотеки numpy = 1.0028603305785122\n"
     ]
    }
   ],
   "source": [
    "dis = sum((xi - mean) ** 2 for xi in data) / len(data)\n",
    "print(f'Выборочная дисперсия = {dis}')\n",
    "print(f'Выборочная дисперсия из библиотеки numpy = {data.var()}')"
   ]
  },
  {
   "cell_type": "markdown",
   "metadata": {},
   "source": [
    "Исправленная выборочная дисперсия $$ s^2=\\frac{1}{n-1} \\cdot \\displaystyle\\sum_{i=1}^{n}(x_i - \\overline{x})^2$$"
   ]
  },
  {
   "cell_type": "code",
   "execution_count": 5,
   "metadata": {},
   "outputs": [
    {
     "name": "stdout",
     "output_type": "stream",
     "text": [
      "Исправленная выборочная дисперсия = 1.0506155844155844\n",
      "Исправленная выборочная дисперсия из библиотеки numpy = 1.0506155844155842\n"
     ]
    }
   ],
   "source": [
    "c_dis = sum((xi - mean) ** 2 for xi in data) / (len(data)-1)\n",
    "print(f'Исправленная выборочная дисперсия = {c_dis}')\n",
    "print(f'Исправленная выборочная дисперсия из библиотеки numpy = {data.var(ddof=1)}') "
   ]
  },
  {
   "cell_type": "markdown",
   "metadata": {},
   "source": [
    "**b) приближенно вычислить начальные и центральные моменты вплоть до 4-го порядка включительно**"
   ]
  },
  {
   "cell_type": "code",
   "execution_count": 6,
   "metadata": {},
   "outputs": [
    {
     "name": "stdout",
     "output_type": "stream",
     "text": [
      "Начальный момент 1-го порядка = 2.931818181818181\n",
      "Начальный момент 2-го порядка = 9.598418181818182\n",
      "Начальный момент 3-го порядка = 34.460635909090904\n",
      "Начальный момент 4-го порядка = 133.7242930309091\n"
     ]
    }
   ],
   "source": [
    "for i in range(1,5):\n",
    "    print(f'Начальный момент {i}-го порядка = {((1 / len(data)) * sum(data ** i)).mean()}')"
   ]
  },
  {
   "cell_type": "code",
   "execution_count": 7,
   "metadata": {},
   "outputs": [
    {
     "name": "stdout",
     "output_type": "stream",
     "text": [
      "Центральный момент 1-го порядка = 5.853903220750825e-16\n",
      "Центральный момент 2-го порядка = 1.0028603305785124\n",
      "Центральный момент 3-го порядка = 0.43941066491360076\n",
      "Центральный момент 4-го порядка = 2.966725620981492\n"
     ]
    }
   ],
   "source": [
    "m = []\n",
    "for i in range(1,5):\n",
    "    m.append(((data - [mean] * len(data)) ** i).mean())\n",
    "    print(f'Центральный момент {i}-го порядка = {m[i-1]}')"
   ]
  },
  {
   "cell_type": "code",
   "execution_count": 8,
   "metadata": {},
   "outputs": [
    {
     "name": "stdout",
     "output_type": "stream",
     "text": [
      "Центральный момент 1-го порядка из библиотеки scipy = 0.0\n",
      "Центральный момент 2-го порядка из библиотеки scipy = 1.0028603305785122\n",
      "Центральный момент 3-го порядка из библиотеки scipy = 0.43941066491359937\n",
      "Центральный момент 4-го порядка из библиотеки scipy = 2.966725620981492\n"
     ]
    }
   ],
   "source": [
    "from scipy.stats import moment\n",
    "for i in range(1,5):\n",
    "    print(f'Центральный момент {i}-го порядка из библиотеки scipy = {moment(data, moment=i)}')"
   ]
  },
  {
   "cell_type": "markdown",
   "metadata": {},
   "source": [
    "**с) приближенно найти эксцесс γ распределения**"
   ]
  },
  {
   "cell_type": "code",
   "execution_count": 9,
   "metadata": {},
   "outputs": [
    {
     "name": "stdout",
     "output_type": "stream",
     "text": [
      "Эксцесс γ распределения = -0.050173471041932594\n"
     ]
    }
   ],
   "source": [
    "ex = m[4-1] / (dis ** 2) - 3\n",
    "print(f'Эксцесс γ распределения = {ex}')"
   ]
  },
  {
   "cell_type": "code",
   "execution_count": 10,
   "metadata": {},
   "outputs": [
    {
     "name": "stdout",
     "output_type": "stream",
     "text": [
      "Эксцесс γ распределения из библиотеки scipy = -0.05017347104193126\n"
     ]
    }
   ],
   "source": [
    "from scipy.stats import kurtosis\n",
    "print(f'Эксцесс γ распределения из библиотеки scipy = {kurtosis(data)}')"
   ]
  },
  {
   "cell_type": "markdown",
   "metadata": {},
   "source": [
    "**d) построить гистограмму ( число разрядов гистограммы задавать самостоятельно)**"
   ]
  },
  {
   "cell_type": "code",
   "execution_count": 11,
   "metadata": {},
   "outputs": [
    {
     "data": {
      "text/plain": [
       "<matplotlib.axes._subplots.AxesSubplot at 0x11eca3d30>"
      ]
     },
     "execution_count": 11,
     "metadata": {},
     "output_type": "execute_result"
    },
    {
     "data": {
      "image/png": "[encoded data removed]",
      "text/plain": [
       "<Figure size 432x288 with 1 Axes>"
      ]
     },
     "metadata": {
      "needs_background": "light"
     },
     "output_type": "display_data"
    }
   ],
   "source": [
    "import seaborn as sns\n",
    "sns.distplot(data, kde = False, rug = True, bins = 3)"
   ]
  },
  {
   "cell_type": "code",
   "execution_count": 12,
   "metadata": {},
   "outputs": [
    {
     "data": {
      "text/plain": [
       "<matplotlib.axes._subplots.AxesSubplot at 0x120d496d8>"
      ]
     },
     "execution_count": 12,
     "metadata": {},
     "output_type": "execute_result"
    },
    {
     "data": {
      "image/png": "[encoded data removed]",
      "text/plain": [
       "<Figure size 432x288 with 1 Axes>"
      ]
     },
     "metadata": {
      "needs_background": "light"
     },
     "output_type": "display_data"
    }
   ],
   "source": [
    "sns.distplot(data, kde = False, rug = True, bins = 5)"
   ]
  },
  {
   "cell_type": "code",
   "execution_count": 13,
   "metadata": {},
   "outputs": [
    {
     "data": {
      "text/plain": [
       "<matplotlib.axes._subplots.AxesSubplot at 0x120ec0b38>"
      ]
     },
     "execution_count": 13,
     "metadata": {},
     "output_type": "execute_result"
    },
    {
     "data": {
      "image/png": "[encoded data removed]",
      "text/plain": [
       "<Figure size 432x288 with 1 Axes>"
      ]
     },
     "metadata": {
      "needs_background": "light"
     },
     "output_type": "display_data"
    }
   ],
   "source": [
    "sns.distplot(data, kde = False, rug = True, bins = 10)"
   ]
  },
  {
   "cell_type": "code",
   "execution_count": 14,
   "metadata": {},
   "outputs": [
    {
     "data": {
      "text/plain": [
       "<matplotlib.axes._subplots.AxesSubplot at 0x120f8f470>"
      ]
     },
     "execution_count": 14,
     "metadata": {},
     "output_type": "execute_result"
    },
    {
     "data": {
      "image/png": "[encoded data removed]",
      "text/plain": [
       "<Figure size 432x288 with 1 Axes>"
      ]
     },
     "metadata": {
      "needs_background": "light"
     },
     "output_type": "display_data"
    }
   ],
   "source": [
    "sns.distplot(data, kde = False, rug = True, bins = 20)"
   ]
  },
  {
   "cell_type": "code",
   "execution_count": 15,
   "metadata": {},
   "outputs": [
    {
     "data": {
      "text/plain": [
       "<matplotlib.axes._subplots.AxesSubplot at 0x1210807f0>"
      ]
     },
     "execution_count": 15,
     "metadata": {},
     "output_type": "execute_result"
    },
    {
     "data": {
      "image/png": "[encoded data removed]",
      "text/plain": [
       "<Figure size 432x288 with 1 Axes>"
      ]
     },
     "metadata": {
      "needs_background": "light"
     },
     "output_type": "display_data"
    }
   ],
   "source": [
    "sns.distplot(data, kde = False, rug = True, bins = 25)"
   ]
  }
 ],
 "metadata": {
  "kernelspec": {
   "display_name": "Python 3",
   "language": "python",
   "name": "python3"
  },
  "language_info": {
   "codemirror_mode": {
    "name": "ipython",
    "version": 3
   },
   "file_extension": ".py",
   "mimetype": "text/x-python",
   "name": "python",
   "nbconvert_exporter": "python",
   "pygments_lexer": "ipython3",
   "version": "3.6.5"
  }
 },
 "nbformat": 4,
 "nbformat_minor": 4
}
