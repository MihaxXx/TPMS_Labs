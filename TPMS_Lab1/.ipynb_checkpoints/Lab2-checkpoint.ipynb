{
 "cells": [
  {
   "cell_type": "markdown",
   "metadata": {},
   "source": [
    "## Савельев Михаил, 3.8\n",
    "### Задание № 459\n",
    "*В качестве вариант примем середины интервалов"
   ]
  },
  {
   "cell_type": "code",
   "execution_count": 1,
   "metadata": {},
   "outputs": [
    {
     "data": {
      "text/html": [
       "<div>\n",
       "<style scoped>\n",
       "    .dataframe tbody tr th:only-of-type {\n",
       "        vertical-align: middle;\n",
       "    }\n",
       "\n",
       "    .dataframe tbody tr th {\n",
       "        vertical-align: top;\n",
       "    }\n",
       "\n",
       "    .dataframe thead th {\n",
       "        text-align: right;\n",
       "    }\n",
       "</style>\n",
       "<table border=\"1\" class=\"dataframe\">\n",
       "  <thead>\n",
       "    <tr style=\"text-align: right;\">\n",
       "      <th></th>\n",
       "      <th>Рост</th>\n",
       "      <th>Число студентов</th>\n",
       "    </tr>\n",
       "  </thead>\n",
       "  <tbody>\n",
       "    <tr>\n",
       "      <th>0</th>\n",
       "      <td>156</td>\n",
       "      <td>10</td>\n",
       "    </tr>\n",
       "    <tr>\n",
       "      <th>1</th>\n",
       "      <td>160</td>\n",
       "      <td>14</td>\n",
       "    </tr>\n",
       "    <tr>\n",
       "      <th>2</th>\n",
       "      <td>164</td>\n",
       "      <td>26</td>\n",
       "    </tr>\n",
       "    <tr>\n",
       "      <th>3</th>\n",
       "      <td>168</td>\n",
       "      <td>28</td>\n",
       "    </tr>\n",
       "    <tr>\n",
       "      <th>4</th>\n",
       "      <td>172</td>\n",
       "      <td>12</td>\n",
       "    </tr>\n",
       "    <tr>\n",
       "      <th>5</th>\n",
       "      <td>176</td>\n",
       "      <td>8</td>\n",
       "    </tr>\n",
       "    <tr>\n",
       "      <th>6</th>\n",
       "      <td>180</td>\n",
       "      <td>2</td>\n",
       "    </tr>\n",
       "  </tbody>\n",
       "</table>\n",
       "</div>"
      ],
      "text/plain": [
       "   Рост  Число студентов\n",
       "0   156               10\n",
       "1   160               14\n",
       "2   164               26\n",
       "3   168               28\n",
       "4   172               12\n",
       "5   176                8\n",
       "6   180                2"
      ]
     },
     "execution_count": 1,
     "metadata": {},
     "output_type": "execute_result"
    }
   ],
   "source": [
    "import numpy as np\n",
    "import pandas as pd\n",
    "tabledata = [[156,10], [160,14], [164,26], [168,28], [172,12], [176,8], [180,2]] #[height,num]\n",
    "pd.DataFrame(tabledata,columns = [\"Рост\", \"Число студентов\"])"
   ]
  },
  {
   "cell_type": "code",
   "execution_count": 2,
   "metadata": {},
   "outputs": [
    {
     "name": "stdout",
     "output_type": "stream",
     "text": [
      "Объем выборки = 100\n",
      "Выборочная средняя = 166.0\n"
     ]
    }
   ],
   "source": [
    "count = np.array(list(map(lambda x: x[1], tabledata))).sum()\n",
    "P = np.array(list(map(lambda x: x[0]*x[1], tabledata))).sum()\n",
    "sMiddle = P / count\n",
    "print(f'Объем выборки = {count}')\n",
    "print(f'Выборочная средняя = {sMiddle}')"
   ]
  },
  {
   "cell_type": "code",
   "execution_count": 3,
   "metadata": {},
   "outputs": [
    {
     "name": "stdout",
     "output_type": "stream",
     "text": [
      "Выборочная дисперсия роста обследованных студентов = 33.44\n"
     ]
    }
   ],
   "source": [
    "P2 = np.array(list(map(lambda x: x[1] * ((x[0] - sMiddle) ** 2), tabledata))).sum()\n",
    "sDisp = P2 / count\n",
    "print(f'Выборочная дисперсия роста обследованных студентов = {sDisp}')"
   ]
  },
  {
   "cell_type": "markdown",
   "metadata": {},
   "source": [
    "### Задание № 302"
   ]
  },
  {
   "cell_type": "markdown",
   "metadata": {},
   "source": [
    "$f(x)=\\frac{1}{\\beta^{\\alpha+1}\\Gamma(\\alpha+1)}x^\\alpha e^{-x/\\beta}\\ (\\alpha>-1,\\ \\beta>0),\\ x\\geq0$<br>\n",
    "$f(x)=0,\\ x<0$"
   ]
  },
  {
   "cell_type": "markdown",
   "metadata": {},
   "source": [
    "a)\n",
    "$M(x)=\\int\\limits_{0}^{\\infty} xf(x)\\,\\mathrm{d}x$ = $M(x)=\\int\\limits_{0}^{\\infty} \\frac{x^{\\alpha+1}e^{-x/\\beta}}{\\beta^{\\alpha+1}\\Gamma(\\alpha+1)}\\,\\mathrm{d}x$"
   ]
  },
  {
   "cell_type": "markdown",
   "metadata": {},
   "source": [
    "$\n",
    "\\left[ \\begin{array}{l l}A\\\\B\\end{array} \\right]\n",
    "$"
   ]
  },
  {
   "cell_type": "code",
   "execution_count": null,
   "metadata": {},
   "outputs": [],
   "source": []
  }
 ],
 "metadata": {
  "kernelspec": {
   "display_name": "Python 3",
   "language": "python",
   "name": "python3"
  },
  "language_info": {
   "codemirror_mode": {
    "name": "ipython",
    "version": 3
   },
   "file_extension": ".py",
   "mimetype": "text/x-python",
   "name": "python",
   "nbconvert_exporter": "python",
   "pygments_lexer": "ipython3",
   "version": "3.6.5"
  }
 },
 "nbformat": 4,
 "nbformat_minor": 4
}
