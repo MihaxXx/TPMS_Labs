{
 "cells": [
  {
   "cell_type": "markdown",
   "metadata": {},
   "source": [
    "### Задание № 302"
   ]
  },
  {
   "cell_type": "markdown",
   "metadata": {},
   "source": [
    "$f(x)=\\frac{1}{\\beta^{\\alpha+1}\\Gamma(\\alpha+1)}x^\\alpha e^{-x/\\beta}\\ (\\alpha>-1,\\ \\beta>0),\\ x\\geq0$<br>\n",
    "$f(x)=0,\\ x<0$"
   ]
  },
  {
   "cell_type": "markdown",
   "metadata": {},
   "source": [
    "a)\n",
    "$M(x)=\\int\\limits_{0}^{\\infty} xf(x)\\,\\mathrm{d}x$ = $M(x)=\\int\\limits_{0}^{\\infty} \\frac{x^{\\alpha+1}e^{-x/\\beta}}{\\beta^{\\alpha+1}\\Gamma(\\alpha+1)}\\,\\mathrm{d}x$"
   ]
  },
  {
   "cell_type": "markdown",
   "metadata": {},
   "source": [
    "$\n",
    "\\left[ \\begin{array}{l l}A\\\\B\\end{array} \\right]\n",
    "$"
   ]
  }
 ],
 "metadata": {
  "kernelspec": {
   "display_name": "Python 3",
   "language": "python",
   "name": "python3"
  },
  "language_info": {
   "codemirror_mode": {
    "name": "ipython",
    "version": 3
   },
   "file_extension": ".py",
   "mimetype": "text/x-python",
   "name": "python",
   "nbconvert_exporter": "python",
   "pygments_lexer": "ipython3",
   "version": "3.6.5"
  }
 },
 "nbformat": 4,
 "nbformat_minor": 4
}
